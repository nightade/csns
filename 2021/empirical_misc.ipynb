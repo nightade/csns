{
 "cells": [
  {
   "cell_type": "markdown",
   "id": "bacterial-still",
   "metadata": {},
   "source": [
    "# Paste this on 'empirical_3'"
   ]
  },
  {
   "cell_type": "markdown",
   "id": "liable-anniversary",
   "metadata": {},
   "source": [
    "## \"Where exactly is the most dense area?\"\n",
    "Required : dat"
   ]
  },
  {
   "cell_type": "code",
   "execution_count": null,
   "id": "synthetic-efficiency",
   "metadata": {},
   "outputs": [],
   "source": [
    "medals = pd.DataFrame(columns=['Gold', 'Gzip', 'Grho', 'Silver', 'Szip', 'Srho', 'Bronze', 'Bzip', 'Brho'], index=years)\n",
    "for y,d in zip(years, dat):\n",
    "    new_row = {}\n",
    "    superhot = d.zbp.sort_values(by='rho', ascending=False).iloc[:3]\n",
    "    new_row['Gold'] = superhot.iloc[0].GEO_TTL\n",
    "    new_row['Gzip'] = superhot.iloc[0].ZIP\n",
    "    new_row['Grho'] = superhot.iloc[0].rho\n",
    "    new_row['Silver'] = superhot.iloc[1].GEO_TTL\n",
    "    new_row['Szip'] = superhot.iloc[1].ZIP\n",
    "    new_row['Srho'] = superhot.iloc[2].rho\n",
    "    new_row['Bronze'] = superhot.iloc[2].GEO_TTL\n",
    "    new_row['Bzip'] = superhot.iloc[2].ZIP\n",
    "    new_row['Brho'] = superhot.iloc[2].rho\n",
    "    medals.loc[y] = new_row\n",
    "medals[['Gold', 'Silver', 'Bronze']]"
   ]
  },
  {
   "cell_type": "markdown",
   "id": "sweet-electronics",
   "metadata": {},
   "source": [
    "## Comparing for various $\\alpha$ values\n",
    "Required : ykp"
   ]
  },
  {
   "cell_type": "code",
   "execution_count": null,
   "id": "empty-latin",
   "metadata": {},
   "outputs": [],
   "source": [
    "fig, axes = plt.subplots(1,3,figsize=(18,4))\n",
    "\n",
    "for ax, df in zip(axes, [ykp_5, ykp_10, ykp_20]):\n",
    "    g = df.groupby(['GEO_TTL'])\n",
    "    X = g['k'].apply(lambda v: round(np.median(v))).to_numpy()\n",
    "    X_D = g['k'].apply(lambda v: max(v)-min(v)).to_numpy()\n",
    "    Y = g['P'].apply(np.median).to_numpy()\n",
    "    Y_D = g['P'].apply(lambda v: max(v)-min(v)).to_numpy()\n",
    "\n",
    "    kp = pd.DataFrame({'k':X, 'P':Y})\n",
    "    h = kp.groupby(['k'])\n",
    "    X_avg = list(h.indices)\n",
    "    Y_avg = h['P'].mean()\n",
    "\n",
    "    f = lambda x,a,b : a*(x**b)\n",
    "    pfit, cov = curve_fit(f, X_avg[1:-1], Y_avg[1:-1])\n",
    "    # Xfit = np.linspace(max(X_avg[1:-1]), min(X_avg[1:-1]), 10)\n",
    "    Xfit = X_avg.copy()\n",
    "    Yfit = f(Xfit, *pfit)\n",
    "\n",
    "    std = np.sqrt(np.diag(cov))\n",
    "    delta = pfit[1]\n",
    "    R_sq = np.corrcoef(np.log(Y_avg[1:-1]), np.log(Yfit[1:-1]))[0,1]**2\n",
    "    \n",
    "    ax.set_xscale('log'); ax.set_yscale('log')\n",
    "    ax.set_xlabel('k', fontsize='xx-large'); ax.set_ylabel('P', fontsize='xx-large')\n",
    "\n",
    "    ax.scatter(X, Y, alpha = 0.3)\n",
    "    ax.scatter(X_avg, Y_avg)\n",
    "    ax.plot(Xfit[1:-1], Yfit[1:-1], ls='--', color='orange', alpha=0.8)\n",
    "\n",
    "    antext = 'Slope = {:.2f} ± {:.3f} \\nβ = {:.2f}, R² = {:.2f}'.format(delta, std[1], 1/delta, R_sq)\n",
    "    ax.annotate(antext, (0.45, 0.05), xycoords='axes fraction', fontsize=13)\n",
    "    print(std[1])\n",
    "plt.show()"
   ]
  },
  {
   "cell_type": "markdown",
   "id": "dynamic-equality",
   "metadata": {},
   "source": [
    "## Why don't I keep all the years?\n",
    "Required : ykp"
   ]
  },
  {
   "cell_type": "code",
   "execution_count": null,
   "id": "intended-nightmare",
   "metadata": {},
   "outputs": [],
   "source": [
    "X = ykp['k'].to_numpy()\n",
    "Y = ykp['P'].to_numpy()\n",
    "\n",
    "kp = pd.DataFrame({'k':X, 'P':Y})\n",
    "h = kp.groupby(['k'])\n",
    "X_avg = list(h.indices)\n",
    "Y_avg = h['P'].mean()\n",
    "\n",
    "fitfunc = lambda x,a,b : a*(x**b)\n",
    "pfit, cov = curve_fit(fitfunc, X_avg[1:-1], Y_avg[1:-1])\n",
    "Xfit = X_avg.copy()\n",
    "Yfit = fitfunc(Xfit, *pfit)\n",
    "\n",
    "Pstar = pfit[0]\n",
    "delta = pfit[1]\n",
    "std = np.sqrt(np.diag(cov))\n",
    "R_sq = np.corrcoef(np.log(Y_avg[1:-1]), np.log(Yfit[1:-1]))[0,1]**2\n",
    "\n",
    "print('pfit :', pfit)"
   ]
  },
  {
   "cell_type": "code",
   "execution_count": null,
   "id": "alpha-average",
   "metadata": {},
   "outputs": [],
   "source": [
    "fig, ax = plt.subplots()\n",
    "ax.set_xscale('log'); ax.set_yscale('log')\n",
    "ax.set_xlabel('k', fontsize='xx-large'); ax.set_ylabel('P', fontsize='xx-large')\n",
    "\n",
    "ax.scatter(X, Y, alpha = 0.3)\n",
    "ax.scatter(X_avg, Y_avg)\n",
    "ax.plot(Xfit[1:-1], Yfit[1:-1], ls='--', color='orange', alpha=0.8)\n",
    "\n",
    "antext = 'Slope = {:.2f} ± {:.2f} \\nβ = {:.2f}, R² = {:.2f}'.format(delta, std[1], 1/delta, R_sq)\n",
    "ax.annotate(antext, (0.45, 0.05), xycoords='axes fraction', fontsize=17)\n",
    "\n",
    "plt.show()"
   ]
  },
  {
   "cell_type": "markdown",
   "id": "talented-fitness",
   "metadata": {},
   "source": [
    "## What the heck does KS-Test have to do with all this?\n",
    "Required : ykp, result_KS (processing included below)"
   ]
  },
  {
   "cell_type": "code",
   "execution_count": null,
   "id": "ethical-daniel",
   "metadata": {},
   "outputs": [],
   "source": [
    "from scipy.stats import ks_2samp\n",
    "import itertools"
   ]
  },
  {
   "cell_type": "code",
   "execution_count": 1,
   "id": "direct-round",
   "metadata": {
    "collapsed": true
   },
   "outputs": [
    {
     "ename": "NameError",
     "evalue": "name 'ykp' is not defined",
     "output_type": "error",
     "traceback": [
      "\u001b[1;31m---------------------------------------------------------------------------\u001b[0m",
      "\u001b[1;31mNameError\u001b[0m                                 Traceback (most recent call last)",
      "\u001b[1;32m<ipython-input-1-03547144e2fe>\u001b[0m in \u001b[0;36m<module>\u001b[1;34m\u001b[0m\n\u001b[1;32m----> 1\u001b[1;33m \u001b[0mykp_sort\u001b[0m \u001b[1;33m=\u001b[0m \u001b[0mykp\u001b[0m\u001b[1;33m.\u001b[0m\u001b[0msort_values\u001b[0m\u001b[1;33m(\u001b[0m\u001b[0mby\u001b[0m\u001b[1;33m=\u001b[0m\u001b[1;34m'GEO_TTL'\u001b[0m\u001b[1;33m)\u001b[0m \u001b[1;31m# α for k threshold = 5\u001b[0m\u001b[1;33m\u001b[0m\u001b[1;33m\u001b[0m\u001b[0m\n\u001b[0m\u001b[0;32m      2\u001b[0m \u001b[0mg_ykp\u001b[0m \u001b[1;33m=\u001b[0m \u001b[0mg\u001b[0m \u001b[1;33m=\u001b[0m \u001b[0mykp\u001b[0m\u001b[1;33m.\u001b[0m\u001b[0mgroupby\u001b[0m\u001b[1;33m(\u001b[0m\u001b[1;33m[\u001b[0m\u001b[1;34m'GEO_TTL'\u001b[0m\u001b[1;33m]\u001b[0m\u001b[1;33m)\u001b[0m\u001b[1;33m\u001b[0m\u001b[1;33m\u001b[0m\u001b[0m\n\u001b[0;32m      3\u001b[0m \u001b[1;33m\u001b[0m\u001b[0m\n\u001b[0;32m      4\u001b[0m \u001b[0mcount\u001b[0m \u001b[1;33m=\u001b[0m \u001b[1;32mlambda\u001b[0m \u001b[0mv\u001b[0m\u001b[1;33m:\u001b[0m \u001b[0mlen\u001b[0m\u001b[1;33m(\u001b[0m\u001b[0mv\u001b[0m\u001b[1;33m)\u001b[0m\u001b[1;33m\u001b[0m\u001b[1;33m\u001b[0m\u001b[0m\n\u001b[0;32m      5\u001b[0m \u001b[0mgeo_len\u001b[0m \u001b[1;33m=\u001b[0m \u001b[0mykp\u001b[0m\u001b[1;33m.\u001b[0m\u001b[0mgroupby\u001b[0m\u001b[1;33m(\u001b[0m\u001b[1;33m[\u001b[0m\u001b[1;34m'GEO_TTL'\u001b[0m\u001b[1;33m]\u001b[0m\u001b[1;33m)\u001b[0m\u001b[1;33m[\u001b[0m\u001b[1;34m'k'\u001b[0m\u001b[1;33m]\u001b[0m\u001b[1;33m.\u001b[0m\u001b[0mapply\u001b[0m\u001b[1;33m(\u001b[0m\u001b[0mcount\u001b[0m\u001b[1;33m)\u001b[0m\u001b[1;33m\u001b[0m\u001b[1;33m\u001b[0m\u001b[0m\n",
      "\u001b[1;31mNameError\u001b[0m: name 'ykp' is not defined"
     ]
    }
   ],
   "source": [
    "ykp_sort = ykp.sort_values(by='GEO_TTL') # α for k threshold = 5\n",
    "g_ykp = g = ykp.groupby(['GEO_TTL'])\n",
    "\n",
    "count = lambda v: len(v)\n",
    "geo_len = ykp.groupby(['GEO_TTL'])['k'].apply(count) \n",
    "\n",
    "lencut= 2\n",
    "geo_len = geo_len[geo_len > lencut]\n",
    "\n",
    "# k vs. <P> back from k-P ... k = 1~25\n",
    "k_ref = g_ykp['k'].apply(lambda v: round(np.median(v)))\n",
    "P_ref1 = Y_avg\n",
    "P_ref2= g_ykp['P'].apply(np.median)\n",
    "\n",
    "# Time Counter\n",
    "tflag = time(); N = len(geo_len)\n",
    "tdiv = 20; tarr = [round(T*N/tdiv) for T in range(1,tdiv+1)]\n",
    "\n",
    "# Process\n",
    "result_KS = []\n",
    "for t, (thisgeo, thislen) in enumerate(geo_len.to_dict().items()):\n",
    "    result_KS.append(pd.DataFrame(columns=['GEO_TTL', 'KS', 'p', 'ratio']))\n",
    "    ratio = P_ref2[thisgeo] / P_ref1[k_ref[thisgeo]]\n",
    "    \n",
    "    df_ref = ykp_sort[ykp_sort['GEO_TTL'] == thisgeo]\n",
    "    arr_sample = []\n",
    "    for row in df_ref.iloc:\n",
    "        d_search = [d for d in dat if d.year==row['Y']]\n",
    "        if len(d_search) != 1: print('cannot find *d* by year')\n",
    "        zbp = d_search[0].zbp\n",
    "        df = zbp[zbp['GEO_TTL'] == thisgeo]\n",
    "        sample_y = df['rho'].sort_values(ascending=False, ignore_index=True)\n",
    "        arr_sample.append(sample_y)\n",
    "    for sam1, sam2 in itertools.combinations(arr_sample,2):\n",
    "        ks, p = ks_2samp(sam1, sam2)\n",
    "        thisresult[0].append(ks)\n",
    "        thisresult[1].append(p)\n",
    "        new_row = {'GEO_TTL':thisgeo, 'KS':ks, 'p':p, 'ratio':ratio}\n",
    "        result_KS[-1] = result_KS[-1].append(new_row, ignore_index=True)\n",
    "    if t == tarr[0]:\n",
    "        print(t, '/', N, '...', time()-tflag, 'sec')\n",
    "        tarr.pop(0); tflag=time()\n",
    "result_KS = pd.concat(tuple(result_KS), ignore_index=True)"
   ]
  },
  {
   "cell_type": "code",
   "execution_count": null,
   "id": "optical-creature",
   "metadata": {},
   "outputs": [],
   "source": [
    "fig, ax = plt.subplots()\n",
    "ax.set_ylabel(\"$P_k/<P_k>$\", fontsize='xx-large')\n",
    "ax.set_yscale('log')\n",
    "\n",
    "ratios = result_KS['ratio'].to_numpy()\n",
    "xtest = np.arange(len(ratios))\n",
    "# ax.scatter(xtest, np.log(ratios)/np.log(10), s=10, alpha=0.2)\n",
    "# ax.scatter(xtest, ratios, s=10, alpha=0.2)\n",
    "\n",
    "bins=[-2.5, -2, -1.5, -1, -0.5, 0, 0.5, 1, 1.5, 2, 2.5, 3]\n",
    "ax.hist(np.log10(ratios), bins=bins, rwidth=0.5, align='left', alpha=0.7)\n",
    "# ax.hist(ratios, bins=bins)\n",
    "\n",
    "ax.axvline(x=0, color='tab:red', zorder = 2)\n",
    "plt.show()"
   ]
  },
  {
   "cell_type": "code",
   "execution_count": null,
   "id": "absent-contest",
   "metadata": {},
   "outputs": [],
   "source": [
    "fig, ax = plt.subplots(figsize=(6,6))\n",
    "ax.set_xlabel('KS statistics', fontsize='xx-large'); ax.set_ylabel('$p_{KS}$', fontsize='xx-large')\n",
    "\n",
    "X = result_KS['KS']\n",
    "Y = result_KS['p']\n",
    "ax.scatter(X, Y, s=10, alpha = 0.2, color='gray')\n",
    "\n",
    "plt.show()"
   ]
  },
  {
   "cell_type": "code",
   "execution_count": null,
   "id": "educational-switch",
   "metadata": {},
   "outputs": [],
   "source": [
    "# c1 = np.array([0, 0.263, 0.874]) # Deep Blue\n",
    "c1 = np.array([0, 0.556, 0.458]) # Dark Green\n",
    "c2 = np.array([0.863, 0, 0.215]) # Crimson\n",
    "\n",
    "a, b = (c1-c2)/2, (c1+c2)/2; trimmer = 2\n",
    "palette = lambda r: (a*r + b*abs(r)) / trimmer # r = log ratio\n",
    "\n",
    "# Time Counter\n",
    "tflag = time(); N = len(result_KS)\n",
    "tdiv = 10; tarr = [round(T*N/tdiv) for T in range(1,tdiv+1)]\n",
    "\n",
    "color_result_KS = []\n",
    "for i, row in enumerate(result_KS.iloc):\n",
    "    color = palette(np.log10(row['ratio']))\n",
    "    color_result_KS.append(color)\n",
    "    if i == tarr[0]:\n",
    "        print(i, '/', N, '...', time()-tflag, 'sec')\n",
    "        tarr.pop(0); tflag=time()"
   ]
  },
  {
   "cell_type": "code",
   "execution_count": null,
   "id": "legislative-schema",
   "metadata": {},
   "outputs": [],
   "source": [
    "fig, ax = plt.subplots(figsize=(6,6))\n",
    "ax.set_xlabel('KS statistics', fontsize='xx-large'); ax.set_ylabel('$p_{KS}$', fontsize='xx-large')\n",
    "\n",
    "X = result_KS['KS']\n",
    "Y = result_KS['p']\n",
    "\n",
    "tflag = time()\n",
    "ax.scatter(X, Y, s=30, alpha = 0.2, color=color_result_KS)\n",
    "print(time() - tflag)\n",
    "\n",
    "plt.show()"
   ]
  },
  {
   "cell_type": "code",
   "execution_count": null,
   "id": "critical-language",
   "metadata": {},
   "outputs": [],
   "source": [
    "fig, ax = plt.subplots(figsize=(6,6))\n",
    "ax.set_xlabel('<KS statistics>', fontsize='xx-large'); ax.set_ylabel('$<p_{KS}>$', fontsize='xx-large')\n",
    "\n",
    "X = result_KS['KS']\n",
    "Y = result_KS['p']\n",
    "\n",
    "for X,Y in result:\n",
    "    x,y = np.mean(X),np.mean(Y)\n",
    "#     dx,dy = np.std(X),np.std(Y)\n",
    "#     r = np.sqrt(dx)\n",
    "    ax.scatter(x, y, alpha = 0.2, color='k')\n",
    "    \n",
    "plt.show()"
   ]
  }
 ],
 "metadata": {
  "kernelspec": {
   "display_name": "Python 3",
   "language": "python",
   "name": "python3"
  },
  "language_info": {
   "codemirror_mode": {
    "name": "ipython",
    "version": 3
   },
   "file_extension": ".py",
   "mimetype": "text/x-python",
   "name": "python",
   "nbconvert_exporter": "python",
   "pygments_lexer": "ipython3",
   "version": "3.9.1"
  }
 },
 "nbformat": 4,
 "nbformat_minor": 5
}
