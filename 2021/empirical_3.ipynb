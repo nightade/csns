{
 "cells": [
  {
   "cell_type": "code",
   "execution_count": 2,
   "id": "7d727a53-a132-415f-bd85-95445305bef6",
   "metadata": {},
   "outputs": [],
   "source": [
    "import numpy as np\n",
    "import pandas as pd\n",
    "import matplotlib.pyplot as plt\n",
    "import requests\n",
    "from time import time\n",
    "from scipy.optimize import curve_fit"
   ]
  },
  {
   "cell_type": "code",
   "execution_count": 3,
   "id": "84911d8e-ebae-4071-9781-741887402bef",
   "metadata": {},
   "outputs": [
    {
     "name": "stdout",
     "output_type": "stream",
     "text": [
      "7 개 로드 완료!\n"
     ]
    }
   ],
   "source": [
    "gaz_zcta_years = [2000, 2010, 2012, 2013, 2014, 2015, 2016]\n",
    "gaz_zcta = []\n",
    "for y in gaz_zcta_years:\n",
    "    fname = 'gaz_zcta' + str(y) + '.csv'\n",
    "    gaz = pd.read_csv(fname, sep=',', header=(0), dtype={'GEOID':str, 'ALAND':float})\n",
    "    gaz_zcta.append(gaz)\n",
    "\n",
    "print(len(gaz_zcta), '개 로드 완료!')\n",
    "\n",
    "def which_gaz(year):\n",
    "    test = [abs(year-zear) for zear in gaz_zcta_years]\n",
    "    return gaz_zcta[test.index(min(test))]"
   ]
  },
  {
   "cell_type": "code",
   "execution_count": 4,
   "id": "7bb52473-a601-4221-a3f8-9f8fbc709f42",
   "metadata": {},
   "outputs": [],
   "source": [
    "class Year_read:\n",
    "    def __init__(self, prefix, year):\n",
    "        self.year = year\n",
    "        self.gaz = which_gaz(year)\n",
    "\n",
    "        fname = prefix + str(year) + '.csv'\n",
    "        self.zbp = pd.read_csv(fname, header=(0), dtype={'EMP':int, 'ZIP':str, 'rho':float})"
   ]
  },
  {
   "cell_type": "markdown",
   "id": "905c2e77-55d9-4757-83bb-15fe72400570",
   "metadata": {},
   "source": [
    "### Reading Files & Attaching Population Info"
   ]
  },
  {
   "cell_type": "code",
   "execution_count": 5,
   "id": "d4ac347b-52d1-4536-8b6d-d058f9633074",
   "metadata": {},
   "outputs": [
    {
     "name": "stdout",
     "output_type": "stream",
     "text": [
      "1 / 18 ( 1999 ) 11.656026601791382 sec\n",
      "2 / 18 ( 2000 ) 12.209590673446655 sec\n",
      "3 / 18 ( 2001 ) 12.343568801879883 sec\n",
      "4 / 18 ( 2002 ) 12.893512964248657 sec\n",
      "5 / 18 ( 2003 ) 13.444451570510864 sec\n",
      "6 / 18 ( 2004 ) 12.671076536178589 sec\n",
      "7 / 18 ( 2005 ) 12.722790718078613 sec\n",
      "8 / 18 ( 2006 ) 12.984569787979126 sec\n",
      "9 / 18 ( 2007 ) 12.506586790084839 sec\n",
      "10 / 18 ( 2008 ) 13.880374908447266 sec\n",
      "11 / 18 ( 2009 ) 13.714733362197876 sec\n",
      "12 / 18 ( 2010 ) 13.286051034927368 sec\n",
      "13 / 18 ( 2011 ) 13.318702697753906 sec\n",
      "14 / 18 ( 2012 ) 13.064074754714966 sec\n",
      "15 / 18 ( 2013 ) 13.096916913986206 sec\n",
      "16 / 18 ( 2014 ) 13.172640085220337 sec\n",
      "17 / 18 ( 2015 ) 13.321985960006714 sec\n",
      "18 / 18 ( 2016 ) 13.288827180862427 sec\n"
     ]
    },
    {
     "data": {
      "text/html": [
       "<div>\n",
       "<style scoped>\n",
       "    .dataframe tbody tr th:only-of-type {\n",
       "        vertical-align: middle;\n",
       "    }\n",
       "\n",
       "    .dataframe tbody tr th {\n",
       "        vertical-align: top;\n",
       "    }\n",
       "\n",
       "    .dataframe thead th {\n",
       "        text-align: right;\n",
       "    }\n",
       "</style>\n",
       "<table border=\"1\" class=\"dataframe\">\n",
       "  <thead>\n",
       "    <tr style=\"text-align: right;\">\n",
       "      <th></th>\n",
       "      <th>Y</th>\n",
       "      <th>GEO_TTL</th>\n",
       "      <th>k</th>\n",
       "      <th>P</th>\n",
       "    </tr>\n",
       "  </thead>\n",
       "  <tbody>\n",
       "    <tr>\n",
       "      <th>0</th>\n",
       "      <td>1999</td>\n",
       "      <td>Aaronsburg, PA</td>\n",
       "      <td>1</td>\n",
       "      <td>1091.0</td>\n",
       "    </tr>\n",
       "    <tr>\n",
       "      <th>1</th>\n",
       "      <td>1999</td>\n",
       "      <td>Abbeville, AL</td>\n",
       "      <td>1</td>\n",
       "      <td>6991.0</td>\n",
       "    </tr>\n",
       "    <tr>\n",
       "      <th>2</th>\n",
       "      <td>1999</td>\n",
       "      <td>Abbeville, GA</td>\n",
       "      <td>1</td>\n",
       "      <td>3870.0</td>\n",
       "    </tr>\n",
       "    <tr>\n",
       "      <th>3</th>\n",
       "      <td>1999</td>\n",
       "      <td>Abbeville, LA</td>\n",
       "      <td>1</td>\n",
       "      <td>24760.0</td>\n",
       "    </tr>\n",
       "    <tr>\n",
       "      <th>4</th>\n",
       "      <td>1999</td>\n",
       "      <td>Abbeville, MS</td>\n",
       "      <td>1</td>\n",
       "      <td>2272.0</td>\n",
       "    </tr>\n",
       "  </tbody>\n",
       "</table>\n",
       "</div>"
      ],
      "text/plain": [
       "      Y         GEO_TTL  k        P\n",
       "0  1999  Aaronsburg, PA  1   1091.0\n",
       "1  1999   Abbeville, AL  1   6991.0\n",
       "2  1999   Abbeville, GA  1   3870.0\n",
       "3  1999   Abbeville, LA  1  24760.0\n",
       "4  1999   Abbeville, MS  1   2272.0"
      ]
     },
     "execution_count": 5,
     "metadata": {},
     "output_type": "execute_result"
    }
   ],
   "source": [
    "years = np.arange(1999, 2017)\n",
    "dat = []\n",
    "for y in years:\n",
    "    dat.append(Year_read('dat', y))\n",
    "\n",
    "tflag = time()\n",
    "for i,d in enumerate(dat):\n",
    "    for row in d.zbp.iloc:\n",
    "        idx = row.index_gaz\n",
    "        if not np.isnan(idx):\n",
    "            idx = int(idx)\n",
    "            pop = d.gaz.iloc[idx].POP\n",
    "            d.zbp.loc[row.name, 'POP'] = pop\n",
    "    print(i+1, '/', len(dat), '(', d.year, ')', time()-tflag, 'sec'); tflag = time()\n",
    "    \n",
    "ykp = pd.read_csv('ykp_0824_alpha_5.csv', sep=',', header=(0), dtype={'GEOID':str, 'ALAND':float})\n",
    "ykp_5 = ykp.copy()\n",
    "ykp_10 = pd.read_csv('ykp_0824_alpha_5.csv', sep=',', header=(0), dtype={'GEOID':str, 'ALAND':float})\n",
    "ykp_20 = pd.read_csv('ykp_0824_alpha_5.csv', sep=',', header=(0), dtype={'GEOID':str, 'ALAND':float})\n",
    "ykp.head()"
   ]
  },
  {
   "cell_type": "code",
   "execution_count": 303,
   "id": "atomic-calculator",
   "metadata": {},
   "outputs": [],
   "source": [
    "ykp = pd.read_csv('ykp_0824_alpha_20.csv', sep=',', header=(0), dtype={'GEOID':str, 'ALAND':float})\n",
    "# ykp = pd.read_csv('ykp_0824_alpha_10.csv', sep=',', header=(0), dtype={'GEOID':str, 'ALAND':float})\n",
    "# ykp = pd.read_csv('ykp_0824_alpha_5.csv', sep=',', header=(0), dtype={'GEOID':str, 'ALAND':float})"
   ]
  },
  {
   "cell_type": "code",
   "execution_count": 311,
   "id": "8209061b-9cea-4400-9452-b6c9f6e8e87f",
   "metadata": {},
   "outputs": [
    {
     "name": "stdout",
     "output_type": "stream",
     "text": [
      "18901\n",
      "pfit : [3.66501650e+04 1.03173738e+00]\n"
     ]
    }
   ],
   "source": [
    "g = ykp.groupby(['GEO_TTL'])\n",
    "X = g['k'].apply(lambda v: round(np.median(v))).to_numpy()\n",
    "X_D = g['k'].apply(lambda v: max(v)-min(v)).to_numpy()\n",
    "Y = g['P'].apply(np.median).to_numpy()\n",
    "Y_D = g['P'].apply(lambda v: max(v)-min(v)).to_numpy()\n",
    "\n",
    "kp = pd.DataFrame({'k':X, 'P':Y})\n",
    "h = kp.groupby(['k'])\n",
    "X_avg = list(h.indices)\n",
    "Y_avg = h['P'].mean()\n",
    "\n",
    "fitfunc = lambda x,a,b : a*(x**b)\n",
    "param, cov = curve_fit(fitfunc, X_avg[1:-5], Y_avg[1:-5])\n",
    "Xfit = X_avg.copy()\n",
    "Yfit = fitfunc(Xfit, *pfit)\n",
    "\n",
    "Pstar = param[0]\n",
    "delta = param[1]\n",
    "std = np.sqrt(np.diag(cov))\n",
    "R_sq = np.corrcoef(np.log(Y_avg[1:None]), np.log(Yfit[1:None]))[0,1]**2\n",
    "\n",
    "print(len(X))\n",
    "print('pfit :', pfit)"
   ]
  },
  {
   "cell_type": "code",
   "execution_count": 312,
   "id": "f2774ae8-1d76-4637-a7e7-6ba463a02126",
   "metadata": {},
   "outputs": [
    {
     "data": {
      "image/png": "[encoded data removed]",
      "text/plain": [
       "<Figure size 432x288 with 1 Axes>"
      ]
     },
     "metadata": {
      "needs_background": "light"
     },
     "output_type": "display_data"
    }
   ],
   "source": [
    "fig, ax = plt.subplots()\n",
    "ax.set_xscale('log'); ax.set_yscale('log')\n",
    "ax.set_xlabel('k', fontsize='xx-large'); ax.set_ylabel('P', fontsize='xx-large')\n",
    "\n",
    "ax.scatter(X, Y, alpha = 0.3)\n",
    "ax.scatter(X_avg, Y_avg)\n",
    "ax.plot(Xfit[1:-1], Yfit[1:-1], ls='--', color='orange', alpha=0.8)\n",
    "\n",
    "antext = 'Slope = {:.2f} ± {:.2f} \\nβ = {:.2f}, R² = {:.2f}'.format(delta, std[1], 1/delta, R_sq)\n",
    "ax.annotate(antext, (0.45, 0.05), xycoords='axes fraction', fontsize=17)\n",
    "\n",
    "plt.show()"
   ]
  },
  {
   "cell_type": "code",
   "execution_count": 308,
   "id": "disabled-prophet",
   "metadata": {},
   "outputs": [
    {
     "name": "stdout",
     "output_type": "stream",
     "text": [
      "pfit : [3.66501650e+04 1.03173738e+00]\n"
     ]
    }
   ],
   "source": [
    "X = ykp['k'].to_numpy()\n",
    "Y = ykp['P'].to_numpy()\n",
    "\n",
    "kp = pd.DataFrame({'k':X, 'P':Y})\n",
    "h = kp.groupby(['k'])\n",
    "X_avg = list(h.indices)\n",
    "Y_avg = h['P'].mean()\n",
    "\n",
    "fitfunc = lambda x,a,b : a*(x**b)\n",
    "pfit, cov = curve_fit(fitfunc, X_avg[1:-1], Y_avg[1:-1])\n",
    "Xfit = X_avg.copy()\n",
    "Yfit = fitfunc(Xfit, *pfit)\n",
    "\n",
    "Pstar = pfit[0]\n",
    "delta = pfit[1]\n",
    "std = np.sqrt(np.diag(cov))\n",
    "R_sq = np.corrcoef(np.log(Y_avg[1:-1]), np.log(Yfit[1:-1]))[0,1]**2\n",
    "\n",
    "print('pfit :', pfit)"
   ]
  },
  {
   "cell_type": "code",
   "execution_count": 309,
   "id": "registered-sierra",
   "metadata": {},
   "outputs": [
    {
     "data": {
      "image/png": "[encoded data removed]",
      "text/plain": [
       "<Figure size 432x288 with 1 Axes>"
      ]
     },
     "metadata": {
      "needs_background": "light"
     },
     "output_type": "display_data"
    }
   ],
   "source": [
    "fig, ax = plt.subplots()\n",
    "ax.set_xscale('log'); ax.set_yscale('log')\n",
    "ax.set_xlabel('k', fontsize='xx-large'); ax.set_ylabel('P', fontsize='xx-large')\n",
    "\n",
    "ax.scatter(X, Y, alpha = 0.3)\n",
    "ax.scatter(X_avg, Y_avg)\n",
    "ax.plot(Xfit[1:-1], Yfit[1:-1], ls='--', color='orange', alpha=0.8)\n",
    "\n",
    "antext = 'Slope = {:.2f} ± {:.2f} \\nβ = {:.2f}, R² = {:.2f}'.format(delta, std[1], 1/delta, R_sq)\n",
    "ax.annotate(antext, (0.45, 0.05), xycoords='axes fraction', fontsize=17)\n",
    "\n",
    "plt.show()"
   ]
  },
  {
   "cell_type": "code",
   "execution_count": 299,
   "id": "equal-equilibrium",
   "metadata": {},
   "outputs": [
    {
     "data": {
      "text/plain": [
       "k\n",
       "1     1.013852e+04\n",
       "2     8.236207e+04\n",
       "3     1.721870e+05\n",
       "4     2.129857e+05\n",
       "5     3.014123e+05\n",
       "6     3.470933e+05\n",
       "7     5.123989e+05\n",
       "8     4.835724e+05\n",
       "9     5.369207e+05\n",
       "10    5.926948e+05\n",
       "11    6.103224e+05\n",
       "12    8.348552e+05\n",
       "13    9.310923e+05\n",
       "14    1.234802e+06\n",
       "15    1.925003e+06\n",
       "16    2.485013e+06\n",
       "17    1.194998e+06\n",
       "18    1.537172e+06\n",
       "19    1.766085e+06\n",
       "20    1.521518e+06\n",
       "21    1.560973e+06\n",
       "22    1.577385e+06\n",
       "23    1.577385e+06\n",
       "24    1.552768e+06\n",
       "25    1.552768e+06\n",
       "Name: P, dtype: float64"
      ]
     },
     "execution_count": 299,
     "metadata": {},
     "output_type": "execute_result"
    }
   ],
   "source": [
    "Y_avg"
   ]
  }
 ],
 "metadata": {
  "kernelspec": {
   "display_name": "Python 3",
   "language": "python",
   "name": "python3"
  },
  "language_info": {
   "codemirror_mode": {
    "name": "ipython",
    "version": 3
   },
   "file_extension": ".py",
   "mimetype": "text/x-python",
   "name": "python",
   "nbconvert_exporter": "python",
   "pygments_lexer": "ipython3",
   "version": "3.9.1"
  }
 },
 "nbformat": 4,
 "nbformat_minor": 5
}
